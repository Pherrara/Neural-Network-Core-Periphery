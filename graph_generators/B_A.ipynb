{
 "cells": [
  {
   "cell_type": "code",
   "execution_count": 8,
   "id": "7ff8015e-f6f3-4225-84af-4eba36058280",
   "metadata": {},
   "outputs": [],
   "source": [
    "import networkx as nx\n",
    "import os\n",
    "\n",
    "# Set global parameters\n",
    "N = 250\n",
    "m = 1000\n",
    "m0 = 5\n",
    "\n",
    "# Create directory to store the edgelists\n",
    "os.makedirs(\"edgelists_BA\", exist_ok=True)\n",
    "\n",
    "# Generate N random BA networks and save them as edge lists\n",
    "for i in range(N):\n",
    "    # Generate BA network\n",
    "    G = nx.barabasi_albert_graph(m, m0)\n",
    "    # Generate filename\n",
    "    filename = f\"edgelists_BA/edgelist_{i}.txt\"\n",
    "    # Save edge list to file\n",
    "    nx.write_edgelist(G, filename, data=False)\n"
   ]
  }
 ],
 "metadata": {
  "kernelspec": {
   "display_name": "Python 3 (ipykernel)",
   "language": "python",
   "name": "python3"
  },
  "language_info": {
   "codemirror_mode": {
    "name": "ipython",
    "version": 3
   },
   "file_extension": ".py",
   "mimetype": "text/x-python",
   "name": "python",
   "nbconvert_exporter": "python",
   "pygments_lexer": "ipython3",
   "version": "3.10.6"
  }
 },
 "nbformat": 4,
 "nbformat_minor": 5
}
