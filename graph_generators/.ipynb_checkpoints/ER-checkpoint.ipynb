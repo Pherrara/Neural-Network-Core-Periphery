{
 "cells": [
  {
   "cell_type": "code",
   "execution_count": 9,
   "id": "6716ba1d-e873-4a8a-9f20-cfeace41b533",
   "metadata": {},
   "outputs": [],
   "source": [
    "import networkx as nx\n",
    "import os\n",
    "\n",
    "# Set global parameters\n",
    "N = 250\n",
    "m = 1000\n",
    "p = 0.01\n",
    "\n",
    "# Create directory to store the edgelists\n",
    "os.makedirs(\"edgelists_ER\", exist_ok=True)\n",
    "\n",
    "# Generate N random ER networks and save them as edge lists\n",
    "for i in range(N):\n",
    "    # Generate ER network\n",
    "    G = nx.erdos_renyi_graph(m, p)\n",
    "    # Generate filename\n",
    "    filename = f\"edgelists_ER/edgelist_{i}.txt\"\n",
    "    # Save edge list to file\n",
    "    nx.write_edgelist(G, filename, data=False)\n"
   ]
  }
 ],
 "metadata": {
  "kernelspec": {
   "display_name": "Python 3 (ipykernel)",
   "language": "python",
   "name": "python3"
  },
  "language_info": {
   "codemirror_mode": {
    "name": "ipython",
    "version": 3
   },
   "file_extension": ".py",
   "mimetype": "text/x-python",
   "name": "python",
   "nbconvert_exporter": "python",
   "pygments_lexer": "ipython3",
   "version": "3.10.6"
  }
 },
 "nbformat": 4,
 "nbformat_minor": 5
}
