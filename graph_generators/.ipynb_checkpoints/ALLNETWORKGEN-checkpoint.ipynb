{
 "cells": [
  {
   "cell_type": "code",
   "execution_count": 13,
   "id": "e7737479-f9d4-483b-9ac9-60b1f91392a3",
   "metadata": {},
   "outputs": [],
   "source": [
    "import random\n",
    "import os \n",
    "import networkx as nx"
   ]
  },
  {
   "cell_type": "code",
   "execution_count": 14,
   "id": "c6dfa080-b58e-4ac7-8307-638e9a23310d",
   "metadata": {},
   "outputs": [],
   "source": [
    "NNNNN = 500 # this is the number of graph for each type we want to be created!"
   ]
  },
  {
   "cell_type": "code",
   "execution_count": 15,
   "id": "eb54851f-e2d0-4b63-8680-f000220e40f9",
   "metadata": {},
   "outputs": [],
   "source": [
    "\n",
    "\n",
    "# Set global parameters\n",
    "N = NNNNN\n",
    "m = 200\n",
    "#p = 0.05\n",
    "p = 0.15\n",
    "\n",
    "# Create directory to store the edgelists\n",
    "os.makedirs(\"edgelists_ER\", exist_ok=True)\n",
    "\n",
    "# Generate N random ER networks and save them as edge lists\n",
    "for i in range(N):\n",
    "    # Generate ER network\n",
    "    G = nx.erdos_renyi_graph(m, p)\n",
    "    # Generate filename\n",
    "    filename = f\"edgelists_ER/edgelist_{i}.txt\"\n",
    "    # Save edge list to file\n",
    "    nx.write_edgelist(G, filename, data=False)\n"
   ]
  },
  {
   "cell_type": "code",
   "execution_count": 16,
   "id": "f1a89601-f705-46d1-9998-abf1573cdf40",
   "metadata": {},
   "outputs": [],
   "source": [
    "\n",
    "# Set global parameters\n",
    "N = NNNNN\n",
    "m = 200 #n of networks created\n",
    "#m0 = 5\n",
    "m0 = 15\n",
    "\n",
    "# Create directory to store the edgelists\n",
    "os.makedirs(\"edgelists_BA\", exist_ok=True)\n",
    "\n",
    "# Generate N random BA networks and save them as edge lists\n",
    "for i in range(N):\n",
    "    # Generate BA network\n",
    "    G = nx.barabasi_albert_graph(m, m0)\n",
    "    # Generate filename\n",
    "    filename = f\"edgelists_BA/edgelist_{i}.txt\"\n",
    "    # Save edge list to file\n",
    "    nx.write_edgelist(G, filename, data=False)\n"
   ]
  },
  {
   "cell_type": "code",
   "execution_count": 17,
   "id": "e3f636a0-4502-4624-a298-b70280f573ad",
   "metadata": {},
   "outputs": [],
   "source": [
    "\n",
    "# Set global parameters\n",
    "N = NNNNN # n of graphs created\n",
    "m = 200 # n of nodes\n",
    "#k = 10\n",
    "k = 30\n",
    "#p = 0.05\n",
    "p = 0.1\n",
    "\n",
    "# Create directory to store the edgelists\n",
    "os.makedirs(\"edgelists_WS\", exist_ok=True)\n",
    "\n",
    "# Generate N random Small World networks and save them as edge lists\n",
    "for i in range(N):\n",
    "    # Generate Small World network\n",
    "    G = nx.watts_strogatz_graph(m, k, p)\n",
    "    # Generate filename\n",
    "    filename = f\"edgelists_WS/edgelist_{i}.txt\"\n",
    "    # Save edge list to file\n",
    "    nx.write_edgelist(G, filename, data=False)"
   ]
  },
  {
   "cell_type": "code",
   "execution_count": 18,
   "id": "bf5600c3-12e6-4ad0-8d67-c65167467482",
   "metadata": {},
   "outputs": [],
   "source": [
    "\n",
    "\n",
    "# Set global variables\n",
    "core_size = 20\n",
    "periphery_size = 180\n",
    "core_core_prob = 0.95\n",
    "periphery_periphery_prob = 0.05\n",
    "periphery_core_prob = 0.5\n",
    "num_graphs = NNNNN\n",
    "\n",
    "os.makedirs(\"edgelists_COREPERIPHERY\", exist_ok=True)\n",
    "\n",
    "for i in range(num_graphs):\n",
    "    # Create empty edge list\n",
    "    edges = []\n",
    "\n",
    "    # Generate core-core edges\n",
    "    for j in range(core_size):\n",
    "        for k in range(j+1, core_size):\n",
    "            if random.random() < core_core_prob:\n",
    "                edges.append((j, k))\n",
    "\n",
    "    # Generate periphery-periphery edges\n",
    "    for j in range(core_size, core_size+periphery_size):\n",
    "        for k in range(j+1, core_size+periphery_size):\n",
    "            if random.random() < periphery_periphery_prob:\n",
    "                edges.append((j, k))\n",
    "\n",
    "    # Generate periphery-core edges\n",
    "    for j in range(core_size, core_size+periphery_size):\n",
    "        for k in range(core_size):\n",
    "            if random.random() < periphery_core_prob:\n",
    "                edges.append((j, k))\n",
    "\n",
    "    # Shuffle edges\n",
    "    random.shuffle(edges)\n",
    "\n",
    "    # Write edgelist to file\n",
    "    filename = f\"edgelists_COREPERIPHERY/edgelist_{i}.txt\"\n",
    "    with open(filename, 'w') as f:\n",
    "        for edge in edges:\n",
    "            f.write(f\"{edge[0]} {edge[1]}\\n\")\n"
   ]
  }
 ],
 "metadata": {
  "kernelspec": {
   "display_name": "Python 3 (ipykernel)",
   "language": "python",
   "name": "python3"
  },
  "language_info": {
   "codemirror_mode": {
    "name": "ipython",
    "version": 3
   },
   "file_extension": ".py",
   "mimetype": "text/x-python",
   "name": "python",
   "nbconvert_exporter": "python",
   "pygments_lexer": "ipython3",
   "version": "3.10.6"
  }
 },
 "nbformat": 4,
 "nbformat_minor": 5
}
