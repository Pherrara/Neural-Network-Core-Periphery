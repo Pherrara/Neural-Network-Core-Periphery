{
 "cells": [
  {
   "cell_type": "code",
   "execution_count": 4,
   "id": "1ddbab72-a52f-4093-bdcc-be91357b4da2",
   "metadata": {},
   "outputs": [],
   "source": [
    "import networkx as nx\n",
    "import os\n",
    "\n",
    "# Set global parameters\n",
    "N = 250\n",
    "m = 1000\n",
    "k = 10\n",
    "p = 0.05\n",
    "\n",
    "# Create directory to store the edgelists\n",
    "os.makedirs(\"edgelists_WS\", exist_ok=True)\n",
    "\n",
    "# Generate N random Small World networks and save them as edge lists\n",
    "for i in range(N):\n",
    "    # Generate Small World network\n",
    "    G = nx.watts_strogatz_graph(m, k, p)\n",
    "    # Generate filename\n",
    "    filename = f\"edgelists_WS/edgelist_{i}.txt\"\n",
    "    # Save edge list to file\n",
    "    nx.write_edgelist(G, filename, data=False)"
   ]
  }
 ],
 "metadata": {
  "kernelspec": {
   "display_name": "Python 3 (ipykernel)",
   "language": "python",
   "name": "python3"
  },
  "language_info": {
   "codemirror_mode": {
    "name": "ipython",
    "version": 3
   },
   "file_extension": ".py",
   "mimetype": "text/x-python",
   "name": "python",
   "nbconvert_exporter": "python",
   "pygments_lexer": "ipython3",
   "version": "3.10.6"
  }
 },
 "nbformat": 4,
 "nbformat_minor": 5
}
