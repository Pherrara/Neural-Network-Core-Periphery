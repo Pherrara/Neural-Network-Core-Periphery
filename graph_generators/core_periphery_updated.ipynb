{
 "cells": [
  {
   "cell_type": "code",
   "execution_count": 10,
   "id": "49e1d882-1d11-438b-a915-4db3db0171db",
   "metadata": {},
   "outputs": [],
   "source": [
    "import random\n",
    "import os \n",
    "\n",
    "# Set global variables\n",
    "core_size = 100\n",
    "periphery_size = 900\n",
    "core_core_prob = 0.9\n",
    "periphery_periphery_prob = 0.1\n",
    "periphery_core_prob = 0.5\n",
    "num_graphs = 250\n",
    "\n",
    "os.makedirs(\"edgelists_COREPERIPHERY\", exist_ok=True)\n",
    "\n",
    "for i in range(num_graphs):\n",
    "    # Create empty edge list\n",
    "    edges = []\n",
    "\n",
    "    # Generate core-core edges\n",
    "    for j in range(core_size):\n",
    "        for k in range(j+1, core_size):\n",
    "            if random.random() < core_core_prob:\n",
    "                edges.append((j, k))\n",
    "\n",
    "    # Generate periphery-periphery edges\n",
    "    for j in range(core_size, core_size+periphery_size):\n",
    "        for k in range(j+1, core_size+periphery_size):\n",
    "            if random.random() < periphery_periphery_prob:\n",
    "                edges.append((j, k))\n",
    "\n",
    "    # Generate periphery-core edges\n",
    "    for j in range(core_size, core_size+periphery_size):\n",
    "        for k in range(core_size):\n",
    "            if random.random() < periphery_core_prob:\n",
    "                edges.append((j, k))\n",
    "\n",
    "    # Shuffle edges\n",
    "    random.shuffle(edges)\n",
    "\n",
    "    # Write edgelist to file\n",
    "    filename = f\"edgelists_COREPERIPHERY/edgelist_{i}.txt\"\n",
    "    with open(filename, 'w') as f:\n",
    "        for edge in edges:\n",
    "            f.write(f\"{edge[0]} {edge[1]}\\n\")\n"
   ]
  }
 ],
 "metadata": {
  "kernelspec": {
   "display_name": "Python 3 (ipykernel)",
   "language": "python",
   "name": "python3"
  },
  "language_info": {
   "codemirror_mode": {
    "name": "ipython",
    "version": 3
   },
   "file_extension": ".py",
   "mimetype": "text/x-python",
   "name": "python",
   "nbconvert_exporter": "python",
   "pygments_lexer": "ipython3",
   "version": "3.10.6"
  }
 },
 "nbformat": 4,
 "nbformat_minor": 5
}
