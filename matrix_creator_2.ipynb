{
 "cells": [
  {
   "cell_type": "code",
   "execution_count": 8,
   "id": "1f912335-0dfe-47f2-abec-76c72afe2496",
   "metadata": {},
   "outputs": [],
   "source": [
    "import os\n",
    "import numpy as np\n",
    "from PIL import Image\n",
    "\n",
    "# Define the path to the edgelist folder and create the image folder if it does not exist\n",
    "basic_path = \"graph_generators/\" # Change this to your starting path!\n",
    "folders = [\"edgelists_ER/\", \"edgelists_WS/\", \"edgelists_BA/\", \"edgelists_ER/\", \"edgelists_COREPERIPHERY/\"]\n",
    "\n",
    "for folder in folders:\n",
    "    \n",
    "    \n",
    "    edgelist_folder = basic_path + folder\n",
    "    image_folder = edgelist_folder + \"images/\"\n",
    "    \n",
    "    # Let's create the folder\n",
    "    if not os.path.exists(image_folder):\n",
    "        os.makedirs(image_folder)\n",
    "\n",
    "    # Iterate over all edgelist files in the folder\n",
    "    for filename in os.listdir(edgelist_folder):\n",
    "        if filename.startswith('edgelist_') and filename.endswith('.txt'):\n",
    "            edgelist_file = os.path.join(edgelist_folder, filename)\n",
    "\n",
    "            # Load the edgelist file and create a list of edges\n",
    "            edges = []\n",
    "            with open(edgelist_file, 'r') as f:\n",
    "                for line in f:\n",
    "                    source, target = line.strip().split()\n",
    "                    edges.append((int(source), int(target)))\n",
    "\n",
    "            # Determine the maximum node label\n",
    "            max_node_label = max(max(source, target) for source, target in edges)\n",
    "\n",
    "            # Create a dictionary to map the original node labels to new random labels\n",
    "            node_map = {node: i for i, node in enumerate(np.random.permutation(range(max_node_label + 1)))}\n",
    "\n",
    "            # Create an empty adjacency matrix\n",
    "            adj_matrix = np.zeros((max_node_label + 1, max_node_label + 1))\n",
    "\n",
    "            # Fill in the adjacency matrix based on the edges\n",
    "            for source, target in edges:\n",
    "                i, j = node_map[source], node_map[target]\n",
    "                adj_matrix[i, j] = 1\n",
    "                adj_matrix[j, i] = 1  # make the matrix symmetric\n",
    "\n",
    "            # Create a black and white image from the adjacency matrix\n",
    "            image = Image.fromarray(np.uint8(255 * (1 - adj_matrix)), mode='L')\n",
    "\n",
    "            # Save the image to a file in the image folder\n",
    "            image_file = os.path.join(image_folder, f'{filename[:-4]}.png')\n",
    "            image.save(image_file)\n"
   ]
  }
 ],
 "metadata": {
  "kernelspec": {
   "display_name": "Python 3 (ipykernel)",
   "language": "python",
   "name": "python3"
  },
  "language_info": {
   "codemirror_mode": {
    "name": "ipython",
    "version": 3
   },
   "file_extension": ".py",
   "mimetype": "text/x-python",
   "name": "python",
   "nbconvert_exporter": "python",
   "pygments_lexer": "ipython3",
   "version": "3.10.6"
  }
 },
 "nbformat": 4,
 "nbformat_minor": 5
}
