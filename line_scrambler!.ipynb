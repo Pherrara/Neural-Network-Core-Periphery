{
 "cells": [
  {
   "cell_type": "code",
   "execution_count": 13,
   "id": "f67ed61f-8bdb-4cfe-90b8-b0e741c682d7",
   "metadata": {},
   "outputs": [],
   "source": [
    "import os\n",
    "import random\n",
    "\n",
    "def shuffle_lines_in_files_in_dir(dir_path):\n",
    "    # Get a list of all files in the directory\n",
    "    files = os.listdir(dir_path)\n",
    "\n",
    "    # Loop over each file in the directory\n",
    "    for file_name in files:\n",
    "        # Check if the file is a text file\n",
    "        if file_name.endswith(\".txt\"):\n",
    "            # Open the file and read the lines into a list\n",
    "            with open(os.path.join(dir_path, file_name), \"r\") as file:\n",
    "                lines = file.readlines()\n",
    "            # Shuffle the list of lines randomly\n",
    "            random.shuffle(lines)\n",
    "            # Write the shuffled lines back to the file\n",
    "            with open(os.path.join(dir_path, file_name), \"w\") as file:\n",
    "                file.writelines(lines)\n",
    "\n",
    "# Set the path to the directory containing the text files\n",
    "dir_path = \"/home/pher/Documents/deeplearning/complex_network/graph_generators/\"\n",
    "specific_path = [\"edgelists_BA/\", \"edgelists_COREPERIPHERY/\", \"edgelists_ER/\", \"edgelists_WS/\"]\n",
    "# Call the function to shuffle the lines in the text files\n",
    "for path in specific_path:\n",
    "    shuffle_lines_in_files_in_dir(dir_path+path)\n",
    "\n"
   ]
  }
 ],
 "metadata": {
  "kernelspec": {
   "display_name": "Python 3 (ipykernel)",
   "language": "python",
   "name": "python3"
  },
  "language_info": {
   "codemirror_mode": {
    "name": "ipython",
    "version": 3
   },
   "file_extension": ".py",
   "mimetype": "text/x-python",
   "name": "python",
   "nbconvert_exporter": "python",
   "pygments_lexer": "ipython3",
   "version": "3.10.6"
  }
 },
 "nbformat": 4,
 "nbformat_minor": 5
}
